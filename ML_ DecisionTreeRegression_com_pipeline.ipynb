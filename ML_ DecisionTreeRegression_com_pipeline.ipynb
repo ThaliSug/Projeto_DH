{
 "cells": [
  {
   "cell_type": "code",
   "execution_count": 10,
   "id": "bcd10878",
   "metadata": {},
   "outputs": [],
   "source": [
    "import pandas as pd\n",
    "import numpy as np\n",
    "import warnings\n",
    "import matplotlib.pyplot as plt\n",
    "import seaborn as sns \n",
    "\n",
    "warnings.filterwarnings('ignore')"
   ]
  },
  {
   "cell_type": "code",
   "execution_count": 2,
   "id": "1246c53f",
   "metadata": {},
   "outputs": [],
   "source": [
    "from sklearn.pipeline import Pipeline\n",
    "from sklearn.preprocessing import MinMaxScaler\n",
    "from sklearn.metrics import mean_squared_error, r2_score"
   ]
  },
  {
   "cell_type": "code",
   "execution_count": 3,
   "id": "820b86e3",
   "metadata": {},
   "outputs": [],
   "source": [
    "pd.set_option('display.max_row',10000)\n",
    "pd.set_option('display.max_columns',40)"
   ]
  },
  {
   "cell_type": "code",
   "execution_count": 4,
   "id": "015f35be",
   "metadata": {},
   "outputs": [],
   "source": [
    "df = pd.read_csv('Dados/data_tratado.csv',sep=';')\n",
    "df.loc[:,'DT_MEDICAO'] =  pd.to_datetime(df.loc[:,'DT_MEDICAO'], format='%Y-%m-%d')"
   ]
  },
  {
   "cell_type": "code",
   "execution_count": 5,
   "id": "13047d06",
   "metadata": {},
   "outputs": [],
   "source": [
    "def tirando_horas_sem_radiacao(df):\n",
    "    condicao_irradiacao = (df.HORA<=18) & (df.HORA>=5)\n",
    "    df = df[condicao_irradiacao]\n",
    "    return df\n",
    "\n",
    "\n",
    "ts = tirando_horas_sem_radiacao(df)\n",
    "ts.loc[:,'DT_MEDICAO'] =  pd.to_datetime(df.loc[:,'DT_MEDICAO'], format='%Y-%m-%d')\n",
    "ts.loc[:,'MES'] = ts.loc[:,'DT_MEDICAO'].dt.month\n",
    "#criando a coluna ano\n",
    "ts.loc[:,'ANO'] = ts.loc[:,'DT_MEDICAO'].dt.year\n",
    "ts_dia = ts.groupby('DT_MEDICAO').agg({'RAD':'sum','CHUVA':'sum','ANO':'mean','MES':'mean','PRE_INS':'mean','UMD_MIN':'mean','PTO_MIN':'mean','VEN_DIR':'mean','TEM_MAX':'mean'})\n",
    "\n",
    "ts.set_index('DT_MEDICAO',inplace=True)"
   ]
  },
  {
   "cell_type": "code",
   "execution_count": 6,
   "id": "a5c2fd76",
   "metadata": {},
   "outputs": [],
   "source": [
    "# funçãoque cria a janela d previsão com N elementos\n",
    "\n",
    "def create_lags(df,N):\n",
    "    for i in range(N):\n",
    "        df['Lag'+str(i+1)] = df.RAD.shift(i+1)\n",
    "    return df"
   ]
  },
  {
   "cell_type": "code",
   "execution_count": 7,
   "id": "cd6862dd",
   "metadata": {},
   "outputs": [],
   "source": [
    "ts['day'] = ts.index.day\n",
    "ts['dayofyear'] = ts.index.dayofyear\n",
    "ts['weekday'] = ts.index.weekday\n",
    "ts['weekofyear'] = ts.index.weekofyear\n",
    "\n",
    "ts['month'] = ts.index.month\n",
    "ts['is_month_start'] = ts.index.is_month_start\n",
    "ts['is_month_end'] = ts.index.is_month_end\n",
    "\n",
    "ts['year'] = ts.index.year\n",
    "ts['is_year_start'] = ts.index.is_year_start\n",
    "ts['ano_fim'] = ts.index.is_year_end\n",
    "\n",
    "ts['quarter'] = ts.index.quarter\n",
    "ts['quarter_comeco'] = ts.index.is_quarter_start\n",
    "ts['quarter_fim'] = ts.index.is_quarter_end\n",
    "\n",
    "ts = ts.dropna()"
   ]
  },
  {
   "cell_type": "code",
   "execution_count": 8,
   "id": "279e2ca7",
   "metadata": {},
   "outputs": [],
   "source": [
    "# No trabalho a captação de dados eram de 10 em 10 minutos então fez um lag de 60 (1hora)\n",
    "# nossa captação é de hora em hora então faremos lag de 24h\n",
    "ts = create_lags(ts,14)\n",
    "ts= ts.dropna()\n",
    "ts_copy = ts.copy()"
   ]
  },
  {
   "cell_type": "code",
   "execution_count": 9,
   "id": "f5a22622",
   "metadata": {},
   "outputs": [
    {
     "data": {
      "text/html": [
       "<div>\n",
       "<style scoped>\n",
       "    .dataframe tbody tr th:only-of-type {\n",
       "        vertical-align: middle;\n",
       "    }\n",
       "\n",
       "    .dataframe tbody tr th {\n",
       "        vertical-align: top;\n",
       "    }\n",
       "\n",
       "    .dataframe thead th {\n",
       "        text-align: right;\n",
       "    }\n",
       "</style>\n",
       "<table border=\"1\" class=\"dataframe\">\n",
       "  <thead>\n",
       "    <tr style=\"text-align: right;\">\n",
       "      <th></th>\n",
       "      <th>DC_NOME</th>\n",
       "      <th>PRE_INS</th>\n",
       "      <th>TEM_SEN</th>\n",
       "      <th>VL_LATITUDE</th>\n",
       "      <th>PRE_MAX</th>\n",
       "      <th>UF</th>\n",
       "      <th>RAD_GLO</th>\n",
       "      <th>PTO_INS</th>\n",
       "      <th>TEM_MIN</th>\n",
       "      <th>VL_LONGITUDE</th>\n",
       "      <th>UMD_MIN</th>\n",
       "      <th>PTO_MAX</th>\n",
       "      <th>VEN_DIR</th>\n",
       "      <th>CHUVA</th>\n",
       "      <th>PRE_MIN</th>\n",
       "      <th>UMD_MAX</th>\n",
       "      <th>VEN_VEL</th>\n",
       "      <th>PTO_MIN</th>\n",
       "      <th>TEM_MAX</th>\n",
       "      <th>VEN_RAJ</th>\n",
       "      <th>...</th>\n",
       "      <th>is_year_start</th>\n",
       "      <th>ano_fim</th>\n",
       "      <th>quarter</th>\n",
       "      <th>quarter_comeco</th>\n",
       "      <th>quarter_fim</th>\n",
       "      <th>ts_lag1</th>\n",
       "      <th>Lag1</th>\n",
       "      <th>Lag2</th>\n",
       "      <th>Lag3</th>\n",
       "      <th>Lag4</th>\n",
       "      <th>Lag5</th>\n",
       "      <th>Lag6</th>\n",
       "      <th>Lag7</th>\n",
       "      <th>Lag8</th>\n",
       "      <th>Lag9</th>\n",
       "      <th>Lag10</th>\n",
       "      <th>Lag11</th>\n",
       "      <th>Lag12</th>\n",
       "      <th>Lag13</th>\n",
       "      <th>Lag14</th>\n",
       "    </tr>\n",
       "    <tr>\n",
       "      <th>DT_MEDICAO</th>\n",
       "      <th></th>\n",
       "      <th></th>\n",
       "      <th></th>\n",
       "      <th></th>\n",
       "      <th></th>\n",
       "      <th></th>\n",
       "      <th></th>\n",
       "      <th></th>\n",
       "      <th></th>\n",
       "      <th></th>\n",
       "      <th></th>\n",
       "      <th></th>\n",
       "      <th></th>\n",
       "      <th></th>\n",
       "      <th></th>\n",
       "      <th></th>\n",
       "      <th></th>\n",
       "      <th></th>\n",
       "      <th></th>\n",
       "      <th></th>\n",
       "      <th></th>\n",
       "      <th></th>\n",
       "      <th></th>\n",
       "      <th></th>\n",
       "      <th></th>\n",
       "      <th></th>\n",
       "      <th></th>\n",
       "      <th></th>\n",
       "      <th></th>\n",
       "      <th></th>\n",
       "      <th></th>\n",
       "      <th></th>\n",
       "      <th></th>\n",
       "      <th></th>\n",
       "      <th></th>\n",
       "      <th></th>\n",
       "      <th></th>\n",
       "      <th></th>\n",
       "      <th></th>\n",
       "      <th></th>\n",
       "      <th></th>\n",
       "    </tr>\n",
       "  </thead>\n",
       "  <tbody>\n",
       "    <tr>\n",
       "      <th>2015-01-02</th>\n",
       "      <td>SAO PAULO - MIRANTE</td>\n",
       "      <td>924.4</td>\n",
       "      <td>24.4</td>\n",
       "      <td>-23.496294</td>\n",
       "      <td>924.4</td>\n",
       "      <td>SP</td>\n",
       "      <td>48.201</td>\n",
       "      <td>16.2</td>\n",
       "      <td>24.7</td>\n",
       "      <td>-46.620088</td>\n",
       "      <td>58.0</td>\n",
       "      <td>16.3</td>\n",
       "      <td>340.0</td>\n",
       "      <td>0.0</td>\n",
       "      <td>923.9</td>\n",
       "      <td>59.0</td>\n",
       "      <td>1.8</td>\n",
       "      <td>16.2</td>\n",
       "      <td>25.0</td>\n",
       "      <td>5.3</td>\n",
       "      <td>...</td>\n",
       "      <td>False</td>\n",
       "      <td>False</td>\n",
       "      <td>1</td>\n",
       "      <td>False</td>\n",
       "      <td>False</td>\n",
       "      <td>0.000</td>\n",
       "      <td>0.000</td>\n",
       "      <td>125.110</td>\n",
       "      <td>1724.781</td>\n",
       "      <td>2137.269</td>\n",
       "      <td>2752.190</td>\n",
       "      <td>3008.730</td>\n",
       "      <td>3682.655</td>\n",
       "      <td>3576.775</td>\n",
       "      <td>3485.912</td>\n",
       "      <td>2828.439</td>\n",
       "      <td>2405.176</td>\n",
       "      <td>1597.737</td>\n",
       "      <td>732.567</td>\n",
       "      <td>115.361</td>\n",
       "    </tr>\n",
       "    <tr>\n",
       "      <th>2015-01-02</th>\n",
       "      <td>SAO PAULO - MIRANTE</td>\n",
       "      <td>925.2</td>\n",
       "      <td>24.7</td>\n",
       "      <td>-23.496294</td>\n",
       "      <td>925.2</td>\n",
       "      <td>SP</td>\n",
       "      <td>285.042</td>\n",
       "      <td>16.6</td>\n",
       "      <td>24.8</td>\n",
       "      <td>-46.620088</td>\n",
       "      <td>58.0</td>\n",
       "      <td>16.7</td>\n",
       "      <td>330.0</td>\n",
       "      <td>0.0</td>\n",
       "      <td>924.4</td>\n",
       "      <td>60.0</td>\n",
       "      <td>1.9</td>\n",
       "      <td>16.2</td>\n",
       "      <td>25.3</td>\n",
       "      <td>5.5</td>\n",
       "      <td>...</td>\n",
       "      <td>False</td>\n",
       "      <td>False</td>\n",
       "      <td>1</td>\n",
       "      <td>False</td>\n",
       "      <td>False</td>\n",
       "      <td>48.201</td>\n",
       "      <td>48.201</td>\n",
       "      <td>0.000</td>\n",
       "      <td>125.110</td>\n",
       "      <td>1724.781</td>\n",
       "      <td>2137.269</td>\n",
       "      <td>2752.190</td>\n",
       "      <td>3008.730</td>\n",
       "      <td>3682.655</td>\n",
       "      <td>3576.775</td>\n",
       "      <td>3485.912</td>\n",
       "      <td>2828.439</td>\n",
       "      <td>2405.176</td>\n",
       "      <td>1597.737</td>\n",
       "      <td>732.567</td>\n",
       "    </tr>\n",
       "    <tr>\n",
       "      <th>2015-01-02</th>\n",
       "      <td>SAO PAULO - MIRANTE</td>\n",
       "      <td>925.7</td>\n",
       "      <td>24.8</td>\n",
       "      <td>-23.496294</td>\n",
       "      <td>925.7</td>\n",
       "      <td>SP</td>\n",
       "      <td>834.522</td>\n",
       "      <td>16.8</td>\n",
       "      <td>25.3</td>\n",
       "      <td>-46.620088</td>\n",
       "      <td>55.0</td>\n",
       "      <td>17.2</td>\n",
       "      <td>318.0</td>\n",
       "      <td>0.0</td>\n",
       "      <td>925.2</td>\n",
       "      <td>59.0</td>\n",
       "      <td>2.8</td>\n",
       "      <td>16.5</td>\n",
       "      <td>26.6</td>\n",
       "      <td>5.1</td>\n",
       "      <td>...</td>\n",
       "      <td>False</td>\n",
       "      <td>False</td>\n",
       "      <td>1</td>\n",
       "      <td>False</td>\n",
       "      <td>False</td>\n",
       "      <td>285.042</td>\n",
       "      <td>285.042</td>\n",
       "      <td>48.201</td>\n",
       "      <td>0.000</td>\n",
       "      <td>125.110</td>\n",
       "      <td>1724.781</td>\n",
       "      <td>2137.269</td>\n",
       "      <td>2752.190</td>\n",
       "      <td>3008.730</td>\n",
       "      <td>3682.655</td>\n",
       "      <td>3576.775</td>\n",
       "      <td>3485.912</td>\n",
       "      <td>2828.439</td>\n",
       "      <td>2405.176</td>\n",
       "      <td>1597.737</td>\n",
       "    </tr>\n",
       "    <tr>\n",
       "      <th>2015-01-02</th>\n",
       "      <td>SAO PAULO - MIRANTE</td>\n",
       "      <td>926.2</td>\n",
       "      <td>27.7</td>\n",
       "      <td>-23.496294</td>\n",
       "      <td>926.2</td>\n",
       "      <td>SP</td>\n",
       "      <td>1136.050</td>\n",
       "      <td>17.6</td>\n",
       "      <td>26.4</td>\n",
       "      <td>-46.620088</td>\n",
       "      <td>52.0</td>\n",
       "      <td>17.6</td>\n",
       "      <td>319.0</td>\n",
       "      <td>0.0</td>\n",
       "      <td>925.7</td>\n",
       "      <td>56.0</td>\n",
       "      <td>1.5</td>\n",
       "      <td>16.7</td>\n",
       "      <td>27.8</td>\n",
       "      <td>5.3</td>\n",
       "      <td>...</td>\n",
       "      <td>False</td>\n",
       "      <td>False</td>\n",
       "      <td>1</td>\n",
       "      <td>False</td>\n",
       "      <td>False</td>\n",
       "      <td>834.522</td>\n",
       "      <td>834.522</td>\n",
       "      <td>285.042</td>\n",
       "      <td>48.201</td>\n",
       "      <td>0.000</td>\n",
       "      <td>125.110</td>\n",
       "      <td>1724.781</td>\n",
       "      <td>2137.269</td>\n",
       "      <td>2752.190</td>\n",
       "      <td>3008.730</td>\n",
       "      <td>3682.655</td>\n",
       "      <td>3576.775</td>\n",
       "      <td>3485.912</td>\n",
       "      <td>2828.439</td>\n",
       "      <td>2405.176</td>\n",
       "    </tr>\n",
       "    <tr>\n",
       "      <th>2015-01-02</th>\n",
       "      <td>SAO PAULO - MIRANTE</td>\n",
       "      <td>926.1</td>\n",
       "      <td>28.4</td>\n",
       "      <td>-23.496294</td>\n",
       "      <td>926.2</td>\n",
       "      <td>SP</td>\n",
       "      <td>2073.788</td>\n",
       "      <td>17.5</td>\n",
       "      <td>27.8</td>\n",
       "      <td>-46.620088</td>\n",
       "      <td>47.0</td>\n",
       "      <td>18.0</td>\n",
       "      <td>290.0</td>\n",
       "      <td>0.0</td>\n",
       "      <td>926.0</td>\n",
       "      <td>54.0</td>\n",
       "      <td>2.7</td>\n",
       "      <td>16.6</td>\n",
       "      <td>29.7</td>\n",
       "      <td>7.2</td>\n",
       "      <td>...</td>\n",
       "      <td>False</td>\n",
       "      <td>False</td>\n",
       "      <td>1</td>\n",
       "      <td>False</td>\n",
       "      <td>False</td>\n",
       "      <td>1136.050</td>\n",
       "      <td>1136.050</td>\n",
       "      <td>834.522</td>\n",
       "      <td>285.042</td>\n",
       "      <td>48.201</td>\n",
       "      <td>0.000</td>\n",
       "      <td>125.110</td>\n",
       "      <td>1724.781</td>\n",
       "      <td>2137.269</td>\n",
       "      <td>2752.190</td>\n",
       "      <td>3008.730</td>\n",
       "      <td>3682.655</td>\n",
       "      <td>3576.775</td>\n",
       "      <td>3485.912</td>\n",
       "      <td>2828.439</td>\n",
       "    </tr>\n",
       "  </tbody>\n",
       "</table>\n",
       "<p>5 rows × 54 columns</p>\n",
       "</div>"
      ],
      "text/plain": [
       "                        DC_NOME  PRE_INS  TEM_SEN  VL_LATITUDE  PRE_MAX  UF  \\\n",
       "DT_MEDICAO                                                                    \n",
       "2015-01-02  SAO PAULO - MIRANTE    924.4     24.4   -23.496294    924.4  SP   \n",
       "2015-01-02  SAO PAULO - MIRANTE    925.2     24.7   -23.496294    925.2  SP   \n",
       "2015-01-02  SAO PAULO - MIRANTE    925.7     24.8   -23.496294    925.7  SP   \n",
       "2015-01-02  SAO PAULO - MIRANTE    926.2     27.7   -23.496294    926.2  SP   \n",
       "2015-01-02  SAO PAULO - MIRANTE    926.1     28.4   -23.496294    926.2  SP   \n",
       "\n",
       "             RAD_GLO  PTO_INS  TEM_MIN  VL_LONGITUDE  UMD_MIN  PTO_MAX  \\\n",
       "DT_MEDICAO                                                               \n",
       "2015-01-02    48.201     16.2     24.7    -46.620088     58.0     16.3   \n",
       "2015-01-02   285.042     16.6     24.8    -46.620088     58.0     16.7   \n",
       "2015-01-02   834.522     16.8     25.3    -46.620088     55.0     17.2   \n",
       "2015-01-02  1136.050     17.6     26.4    -46.620088     52.0     17.6   \n",
       "2015-01-02  2073.788     17.5     27.8    -46.620088     47.0     18.0   \n",
       "\n",
       "            VEN_DIR  CHUVA  PRE_MIN  UMD_MAX  VEN_VEL  PTO_MIN  TEM_MAX  \\\n",
       "DT_MEDICAO                                                                \n",
       "2015-01-02    340.0    0.0    923.9     59.0      1.8     16.2     25.0   \n",
       "2015-01-02    330.0    0.0    924.4     60.0      1.9     16.2     25.3   \n",
       "2015-01-02    318.0    0.0    925.2     59.0      2.8     16.5     26.6   \n",
       "2015-01-02    319.0    0.0    925.7     56.0      1.5     16.7     27.8   \n",
       "2015-01-02    290.0    0.0    926.0     54.0      2.7     16.6     29.7   \n",
       "\n",
       "            VEN_RAJ  ...  is_year_start  ano_fim quarter  quarter_comeco  \\\n",
       "DT_MEDICAO           ...                                                   \n",
       "2015-01-02      5.3  ...          False    False       1           False   \n",
       "2015-01-02      5.5  ...          False    False       1           False   \n",
       "2015-01-02      5.1  ...          False    False       1           False   \n",
       "2015-01-02      5.3  ...          False    False       1           False   \n",
       "2015-01-02      7.2  ...          False    False       1           False   \n",
       "\n",
       "            quarter_fim   ts_lag1      Lag1     Lag2      Lag3      Lag4  \\\n",
       "DT_MEDICAO                                                                 \n",
       "2015-01-02        False     0.000     0.000  125.110  1724.781  2137.269   \n",
       "2015-01-02        False    48.201    48.201    0.000   125.110  1724.781   \n",
       "2015-01-02        False   285.042   285.042   48.201     0.000   125.110   \n",
       "2015-01-02        False   834.522   834.522  285.042    48.201     0.000   \n",
       "2015-01-02        False  1136.050  1136.050  834.522   285.042    48.201   \n",
       "\n",
       "                Lag5      Lag6      Lag7      Lag8      Lag9     Lag10  \\\n",
       "DT_MEDICAO                                                               \n",
       "2015-01-02  2752.190  3008.730  3682.655  3576.775  3485.912  2828.439   \n",
       "2015-01-02  2137.269  2752.190  3008.730  3682.655  3576.775  3485.912   \n",
       "2015-01-02  1724.781  2137.269  2752.190  3008.730  3682.655  3576.775   \n",
       "2015-01-02   125.110  1724.781  2137.269  2752.190  3008.730  3682.655   \n",
       "2015-01-02     0.000   125.110  1724.781  2137.269  2752.190  3008.730   \n",
       "\n",
       "               Lag11     Lag12     Lag13     Lag14  \n",
       "DT_MEDICAO                                          \n",
       "2015-01-02  2405.176  1597.737   732.567   115.361  \n",
       "2015-01-02  2828.439  2405.176  1597.737   732.567  \n",
       "2015-01-02  3485.912  2828.439  2405.176  1597.737  \n",
       "2015-01-02  3576.775  3485.912  2828.439  2405.176  \n",
       "2015-01-02  3682.655  3576.775  3485.912  2828.439  \n",
       "\n",
       "[5 rows x 54 columns]"
      ]
     },
     "execution_count": 9,
     "metadata": {},
     "output_type": "execute_result"
    }
   ],
   "source": [
    "ts.head()"
   ]
  },
  {
   "cell_type": "code",
   "execution_count": 11,
   "id": "be1b2fb9",
   "metadata": {},
   "outputs": [
    {
     "data": {
      "text/plain": [
       "((35784, 32), (35784,))"
      ]
     },
     "execution_count": 11,
     "metadata": {},
     "output_type": "execute_result"
    }
   ],
   "source": [
    "# Define X e saídas Y e divide em 70% para treino e 30% pra teste\n",
    "cols = ['TEM_INS', 'UMD_INS','VEN_RAJ', 'CHUVA','HORA','day', 'dayofyear', 'weekday', 'weekofyear', 'month',\n",
    "        'is_month_start', 'is_month_end', 'year', 'is_year_start', 'ano_fim','quarter', 'quarter_comeco', \n",
    "        'quarter_fim', 'Lag1', 'Lag2', 'Lag3','Lag4', 'Lag5', 'Lag6', 'Lag7', 'Lag8', 'Lag9', 'Lag10', 'Lag11',\n",
    "        'Lag12', 'Lag13', 'Lag14']\n",
    "\n",
    "X = ts[cols]\n",
    "\n",
    "y=np.log(ts['RAD']+1)  # log de y +1 pra não dar problema se zero!\n",
    "X.shape, y.shape"
   ]
  },
  {
   "cell_type": "code",
   "execution_count": 12,
   "id": "da478f51",
   "metadata": {},
   "outputs": [],
   "source": [
    "from sklearn.tree import DecisionTreeRegressor\n",
    "from sklearn.model_selection import train_test_split"
   ]
  },
  {
   "cell_type": "code",
   "execution_count": 13,
   "id": "bc430d1b",
   "metadata": {},
   "outputs": [],
   "source": [
    "X_train, X_test, y_train, y_test = train_test_split(X, y, \n",
    "                                                    test_size=0.33, \n",
    "                                                    random_state=42)"
   ]
  },
  {
   "cell_type": "code",
   "execution_count": 15,
   "id": "36045187",
   "metadata": {},
   "outputs": [],
   "source": [
    "# Define pipeline\n",
    "pipe = Pipeline([('minmax', MinMaxScaler()),\n",
    "                    ('dtr_regr', DecisionTreeRegressor(max_depth=5))])"
   ]
  },
  {
   "cell_type": "code",
   "execution_count": 16,
   "id": "d1787615",
   "metadata": {},
   "outputs": [
    {
     "data": {
      "text/html": [
       "<style>div.sk-top-container {color: black;background-color: white;}div.sk-toggleable {background-color: white;}label.sk-toggleable__label {cursor: pointer;display: block;width: 100%;margin-bottom: 0;padding: 0.2em 0.3em;box-sizing: border-box;text-align: center;}div.sk-toggleable__content {max-height: 0;max-width: 0;overflow: hidden;text-align: left;background-color: #f0f8ff;}div.sk-toggleable__content pre {margin: 0.2em;color: black;border-radius: 0.25em;background-color: #f0f8ff;}input.sk-toggleable__control:checked~div.sk-toggleable__content {max-height: 200px;max-width: 100%;overflow: auto;}div.sk-estimator input.sk-toggleable__control:checked~label.sk-toggleable__label {background-color: #d4ebff;}div.sk-label input.sk-toggleable__control:checked~label.sk-toggleable__label {background-color: #d4ebff;}input.sk-hidden--visually {border: 0;clip: rect(1px 1px 1px 1px);clip: rect(1px, 1px, 1px, 1px);height: 1px;margin: -1px;overflow: hidden;padding: 0;position: absolute;width: 1px;}div.sk-estimator {font-family: monospace;background-color: #f0f8ff;margin: 0.25em 0.25em;border: 1px dotted black;border-radius: 0.25em;box-sizing: border-box;}div.sk-estimator:hover {background-color: #d4ebff;}div.sk-parallel-item::after {content: \"\";width: 100%;border-bottom: 1px solid gray;flex-grow: 1;}div.sk-label:hover label.sk-toggleable__label {background-color: #d4ebff;}div.sk-serial::before {content: \"\";position: absolute;border-left: 1px solid gray;box-sizing: border-box;top: 2em;bottom: 0;left: 50%;}div.sk-serial {display: flex;flex-direction: column;align-items: center;background-color: white;}div.sk-item {z-index: 1;}div.sk-parallel {display: flex;align-items: stretch;justify-content: center;background-color: white;}div.sk-parallel-item {display: flex;flex-direction: column;position: relative;background-color: white;}div.sk-parallel-item:first-child::after {align-self: flex-end;width: 50%;}div.sk-parallel-item:last-child::after {align-self: flex-start;width: 50%;}div.sk-parallel-item:only-child::after {width: 0;}div.sk-dashed-wrapped {border: 1px dashed gray;margin: 0.2em;box-sizing: border-box;padding-bottom: 0.1em;background-color: white;position: relative;}div.sk-label label {font-family: monospace;font-weight: bold;background-color: white;display: inline-block;line-height: 1.2em;}div.sk-label-container {position: relative;z-index: 2;text-align: center;}div.sk-container {display: inline-block;position: relative;}</style><div class=\"sk-top-container\"><div class=\"sk-container\"><div class=\"sk-item sk-dashed-wrapped\"><div class=\"sk-label-container\"><div class=\"sk-label sk-toggleable\"><input class=\"sk-toggleable__control sk-hidden--visually\" id=\"9bbb598a-b362-4102-a432-a795b3c4733c\" type=\"checkbox\" ><label class=\"sk-toggleable__label\" for=\"9bbb598a-b362-4102-a432-a795b3c4733c\">Pipeline</label><div class=\"sk-toggleable__content\"><pre>Pipeline(steps=[('minmax', MinMaxScaler()),\n",
       "                ('dtr_regr', DecisionTreeRegressor(max_depth=5))])</pre></div></div></div><div class=\"sk-serial\"><div class=\"sk-item\"><div class=\"sk-estimator sk-toggleable\"><input class=\"sk-toggleable__control sk-hidden--visually\" id=\"055195b8-f8e4-4dcd-b33f-caa92fbf0635\" type=\"checkbox\" ><label class=\"sk-toggleable__label\" for=\"055195b8-f8e4-4dcd-b33f-caa92fbf0635\">MinMaxScaler</label><div class=\"sk-toggleable__content\"><pre>MinMaxScaler()</pre></div></div></div><div class=\"sk-item\"><div class=\"sk-estimator sk-toggleable\"><input class=\"sk-toggleable__control sk-hidden--visually\" id=\"efc72960-c644-4a9a-93c9-cb1ce24b09c4\" type=\"checkbox\" ><label class=\"sk-toggleable__label\" for=\"efc72960-c644-4a9a-93c9-cb1ce24b09c4\">DecisionTreeRegressor</label><div class=\"sk-toggleable__content\"><pre>DecisionTreeRegressor(max_depth=5)</pre></div></div></div></div></div></div></div>"
      ],
      "text/plain": [
       "Pipeline(steps=[('minmax', MinMaxScaler()),\n",
       "                ('dtr_regr', DecisionTreeRegressor(max_depth=5))])"
      ]
     },
     "execution_count": 16,
     "metadata": {},
     "output_type": "execute_result"
    }
   ],
   "source": [
    "# Ajusta o modelo nos dados de treino\n",
    "from sklearn import set_config\n",
    "set_config(display='diagram')\n",
    "\n",
    "pipe.fit(X_train, y_train)"
   ]
  },
  {
   "cell_type": "code",
   "execution_count": 17,
   "id": "93e34696",
   "metadata": {},
   "outputs": [],
   "source": [
    "#X_test = X_test[['UMD_MIN', 'TEM_MAX']]\n",
    "y_pred = pipe.predict(X_test)\n",
    "y_hat= pipe.predict(X_train)"
   ]
  },
  {
   "cell_type": "code",
   "execution_count": 18,
   "id": "758948c6",
   "metadata": {},
   "outputs": [
    {
     "data": {
      "text/plain": [
       "array([0.01430903, 8.02265319, 7.74699717, ..., 6.03760521, 3.43224102,\n",
       "       7.74699717])"
      ]
     },
     "execution_count": 18,
     "metadata": {},
     "output_type": "execute_result"
    }
   ],
   "source": [
    "y_pred"
   ]
  },
  {
   "cell_type": "code",
   "execution_count": 19,
   "id": "0b14ba9a",
   "metadata": {},
   "outputs": [
    {
     "data": {
      "text/plain": [
       "DT_MEDICAO\n",
       "2018-04-23    0.000000\n",
       "2016-12-20    8.104944\n",
       "2017-10-28    7.710475\n",
       "2021-12-14    7.889000\n",
       "2021-05-17    8.028933\n",
       "Name: RAD, dtype: float64"
      ]
     },
     "execution_count": 19,
     "metadata": {},
     "output_type": "execute_result"
    }
   ],
   "source": [
    "y_test.head()"
   ]
  },
  {
   "cell_type": "code",
   "execution_count": 20,
   "id": "d1e9b75f",
   "metadata": {},
   "outputs": [
    {
     "data": {
      "text/plain": [
       "((11809,), (11809,))"
      ]
     },
     "execution_count": 20,
     "metadata": {},
     "output_type": "execute_result"
    }
   ],
   "source": [
    "y_test.shape, y_pred.shape"
   ]
  },
  {
   "cell_type": "code",
   "execution_count": 21,
   "id": "4ace75d5",
   "metadata": {},
   "outputs": [
    {
     "data": {
      "text/plain": [
       "0.9516419523946547"
      ]
     },
     "execution_count": 21,
     "metadata": {},
     "output_type": "execute_result"
    }
   ],
   "source": [
    "pipe.score(X_test, y_test)"
   ]
  },
  {
   "cell_type": "code",
   "execution_count": 22,
   "id": "a97db382",
   "metadata": {},
   "outputs": [
    {
     "data": {
      "text/plain": [
       "0.9505779211419116"
      ]
     },
     "execution_count": 22,
     "metadata": {},
     "output_type": "execute_result"
    }
   ],
   "source": [
    "pipe.score(X_train, y_train)"
   ]
  },
  {
   "cell_type": "code",
   "execution_count": 23,
   "id": "30655762",
   "metadata": {},
   "outputs": [
    {
     "data": {
      "text/plain": [
       "0.5712102863795803"
      ]
     },
     "execution_count": 23,
     "metadata": {},
     "output_type": "execute_result"
    }
   ],
   "source": [
    "from sklearn.metrics import mean_squared_error\n",
    "mean_squared_error(y_test, y_pred,squared=False)"
   ]
  },
  {
   "cell_type": "code",
   "execution_count": 24,
   "id": "6123fc56",
   "metadata": {},
   "outputs": [
    {
     "data": {
      "text/plain": [
       "0.5730035163718268"
      ]
     },
     "execution_count": 24,
     "metadata": {},
     "output_type": "execute_result"
    }
   ],
   "source": [
    "mean_squared_error(y_train, y_hat,squared=False)"
   ]
  },
  {
   "cell_type": "code",
   "execution_count": 25,
   "id": "cae65d67",
   "metadata": {},
   "outputs": [
    {
     "data": {
      "text/plain": [
       "0.9516419523946547"
      ]
     },
     "execution_count": 25,
     "metadata": {},
     "output_type": "execute_result"
    }
   ],
   "source": [
    "# Cálculo do coeficiente de determinação R2\n",
    "r2_score(y_test,y_pred)"
   ]
  },
  {
   "cell_type": "code",
   "execution_count": 59,
   "id": "970b2e34",
   "metadata": {},
   "outputs": [
    {
     "data": {
      "image/png": "[encoded data removed]",
      "text/plain": [
       "<Figure size 864x432 with 1 Axes>"
      ]
     },
     "metadata": {},
     "output_type": "display_data"
    }
   ],
   "source": [
    "fig = plt.figure(figsize=(12, 6))\n",
    "fig.set_facecolor(\"#fff\")\n",
    "ax = fig.add_subplot()\n",
    "ax.set_facecolor(\"#fff\")\n",
    "plt.title('Regressão da Decisiontree',fontsize=18)\n",
    "plt.scatter(X, y, s=20, edgecolor=\"black\", c=\"darkorange\", label=\"data\")\n",
    "#plt.plot(X_test, y_pred, color=\"cornflowerblue\", label=\"max_depth=5\", linewidth=2)\n",
    "ax.set_ylabel('Irradiância prevista (W.s/m2)', fontsize=15, fontweight=\"normal\", labelpad=10)\n",
    "ax.set_xlabel('Dados', fontsize=15, fontweight=\"normal\", labelpad=10)\n",
    "plt.legend(loc='upper left');"
   ]
  },
  {
   "cell_type": "code",
   "execution_count": 40,
   "id": "f13845f0",
   "metadata": {},
   "outputs": [
    {
     "data": {
      "text/html": [
       "<div>\n",
       "<style scoped>\n",
       "    .dataframe tbody tr th:only-of-type {\n",
       "        vertical-align: middle;\n",
       "    }\n",
       "\n",
       "    .dataframe tbody tr th {\n",
       "        vertical-align: top;\n",
       "    }\n",
       "\n",
       "    .dataframe thead th {\n",
       "        text-align: right;\n",
       "    }\n",
       "</style>\n",
       "<table border=\"1\" class=\"dataframe\">\n",
       "  <thead>\n",
       "    <tr style=\"text-align: right;\">\n",
       "      <th></th>\n",
       "      <th>count</th>\n",
       "      <th>mean</th>\n",
       "      <th>std</th>\n",
       "      <th>min</th>\n",
       "      <th>25%</th>\n",
       "      <th>50%</th>\n",
       "      <th>75%</th>\n",
       "      <th>max</th>\n",
       "    </tr>\n",
       "  </thead>\n",
       "  <tbody>\n",
       "    <tr>\n",
       "      <th>RAD</th>\n",
       "      <td>11809.0</td>\n",
       "      <td>-0.001155</td>\n",
       "      <td>0.571233</td>\n",
       "      <td>-6.037605</td>\n",
       "      <td>-0.190561</td>\n",
       "      <td>-0.006844</td>\n",
       "      <td>0.245408</td>\n",
       "      <td>4.098249</td>\n",
       "    </tr>\n",
       "  </tbody>\n",
       "</table>\n",
       "</div>"
      ],
      "text/plain": [
       "       count      mean       std       min       25%       50%       75%  \\\n",
       "RAD  11809.0 -0.001155  0.571233 -6.037605 -0.190561 -0.006844  0.245408   \n",
       "\n",
       "          max  \n",
       "RAD  4.098249  "
      ]
     },
     "execution_count": 40,
     "metadata": {},
     "output_type": "execute_result"
    }
   ],
   "source": [
    "pd.DataFrame(y_test-y_pred).describe().T"
   ]
  },
  {
   "cell_type": "code",
   "execution_count": 41,
   "id": "6ce641d1",
   "metadata": {},
   "outputs": [
    {
     "data": {
      "image/png": "[encoded data removed]",
      "text/plain": [
       "<Figure size 432x288 with 1 Axes>"
      ]
     },
     "metadata": {
      "needs_background": "light"
     },
     "output_type": "display_data"
    }
   ],
   "source": [
    "resid = y_test-y_pred\n",
    "pd.DataFrame(resid).plot();"
   ]
  },
  {
   "cell_type": "code",
   "execution_count": 60,
   "id": "7e42455e",
   "metadata": {},
   "outputs": [
    {
     "data": {
      "image/png": "[encoded data removed]",
      "text/plain": [
       "<Figure size 1440x576 with 1 Axes>"
      ]
     },
     "metadata": {
      "needs_background": "light"
     },
     "output_type": "display_data"
    }
   ],
   "source": [
    "ax = sns.scatterplot(x=y_pred,y=resid**2,s=150) \n",
    "ax.figure.set_size_inches(20,8)\n",
    "ax.set_title('Resíduos X Previsão',fontsize=18)\n",
    "ax.set_xlabel('previsto',fontsize=14)\n",
    "ax.set_ylabel('Resíduos²',fontsize=14);"
   ]
  },
  {
   "cell_type": "markdown",
   "id": "2afe36a6",
   "metadata": {},
   "source": [
    "## Com StandardScaler"
   ]
  },
  {
   "cell_type": "code",
   "execution_count": 35,
   "id": "a046d4d0",
   "metadata": {},
   "outputs": [],
   "source": [
    "def pipeline_regression_scaler(scaler= 'M'):\n",
    "    from sklearn.pipeline import make_pipeline\n",
    "    from sklearn.preprocessing import MinMaxScaler,StandardScaler,RobustScaler\n",
    "    from sklearn.metrics import mean_squared_error\n",
    "    \n",
    "    if scaler =='S':\n",
    "        pipe = Pipeline([('standardscaler',StandardScaler() ),\n",
    "                        ('model_regression',DecisionTreeRegressor(max_depth=5))])\n",
    "    elif scaler=='M':\n",
    "        pipe = Pipeline([('minmax',MinMaxScaler() ),\n",
    "                        ('model_regression',DecisionTreeRegressor(max_depth=5))])\n",
    "    elif scaler=='R':\n",
    "        pipe = Pipeline([('robust',RobustScaler() ),\n",
    "                        ('model_regression',DecisionTreeRegressor(max_depth=5))])\n",
    "    else:\n",
    "        print('Tente M: minmax, S: standard e R: robust')\n",
    "    \n",
    "    pipe.fit(X_train, y_train)\n",
    "    y_pred = pipe.predict(X_test)\n",
    "    y_hat= pipe.predict(X_train)\n",
    "    print(f'O formato do  y_test é {y_test.shape}, e do y_pred é {y_pred.shape}')\n",
    "    a_test = pipe.score(X_test, y_test)\n",
    "    a_train = pipe.score(X_train, y_train)\n",
    "    print(f'O acurácia do  test é {a_test.round(3)}, e do train é {a_train.round(3)}')\n",
    "    MSE_test = mean_squared_error(y_test, y_pred,squared=False)\n",
    "    MSE_train = mean_squared_error(y_train, y_hat,squared=False)\n",
    "    print(f'O MSE do  test é {MSE_test.round(3)}, e do train é {MSE_train.round(3)}')\n",
    "    \n",
    "    return y_pred,y_hat"
   ]
  },
  {
   "cell_type": "code",
   "execution_count": 36,
   "id": "c4ce61b2",
   "metadata": {},
   "outputs": [
    {
     "name": "stdout",
     "output_type": "stream",
     "text": [
      "O formato do  y_test é (11809,), e do y_pred é (11809,)\n",
      "O acurácia do  test é 0.952, e do train é 0.951\n",
      "O MSE do  test é 0.571, e do train é 0.573\n"
     ]
    }
   ],
   "source": [
    " y_pred,y_hat = pipeline_regression_scaler(\"M\")\n"
   ]
  },
  {
   "cell_type": "code",
   "execution_count": 37,
   "id": "7e83c610",
   "metadata": {},
   "outputs": [
    {
     "name": "stdout",
     "output_type": "stream",
     "text": [
      "O formato do  y_test é (11809,), e do y_pred é (11809,)\n",
      "O acurácia do  test é 0.952, e do train é 0.951\n",
      "O MSE do  test é 0.571, e do train é 0.573\n"
     ]
    },
    {
     "data": {
      "text/plain": [
       "(array([0.01430903, 8.02265319, 7.74699717, ..., 6.03760521, 3.43224102,\n",
       "        7.74699717]),\n",
       " array([7.74699717, 3.43224102, 6.03760521, ..., 0.01430903, 7.74699717,\n",
       "        6.87915146]))"
      ]
     },
     "execution_count": 37,
     "metadata": {},
     "output_type": "execute_result"
    }
   ],
   "source": [
    "pipeline_regression_scaler(\"S\")"
   ]
  },
  {
   "cell_type": "code",
   "execution_count": 38,
   "id": "39748a7f",
   "metadata": {},
   "outputs": [
    {
     "name": "stdout",
     "output_type": "stream",
     "text": [
      "O formato do  y_test é (11809,), e do y_pred é (11809,)\n",
      "O acurácia do  test é 0.952, e do train é 0.951\n",
      "O MSE do  test é 0.571, e do train é 0.573\n"
     ]
    },
    {
     "data": {
      "text/plain": [
       "(array([0.01430903, 8.02265319, 7.74699717, ..., 6.03760521, 3.43224102,\n",
       "        7.74699717]),\n",
       " array([7.74699717, 3.43224102, 6.03760521, ..., 0.01430903, 7.74699717,\n",
       "        6.87915146]))"
      ]
     },
     "execution_count": 38,
     "metadata": {},
     "output_type": "execute_result"
    }
   ],
   "source": [
    "pipeline_regression_scaler(\"R\")"
   ]
  },
  {
   "cell_type": "code",
   "execution_count": 30,
   "id": "9640b029",
   "metadata": {},
   "outputs": [
    {
     "name": "stdout",
     "output_type": "stream",
     "text": [
      "Tente M: minmax, S: standard e R: robust\n"
     ]
    },
    {
     "ename": "UnboundLocalError",
     "evalue": "local variable 'pipe' referenced before assignment",
     "output_type": "error",
     "traceback": [
      "\u001b[1;31m---------------------------------------------------------------------------\u001b[0m",
      "\u001b[1;31mUnboundLocalError\u001b[0m                         Traceback (most recent call last)",
      "\u001b[1;32m~\\AppData\\Local\\Temp/ipykernel_66984/4032050579.py\u001b[0m in \u001b[0;36m<module>\u001b[1;34m\u001b[0m\n\u001b[1;32m----> 1\u001b[1;33m \u001b[0mpipeline_regression_scaler\u001b[0m\u001b[1;33m(\u001b[0m\u001b[1;34m\"d\"\u001b[0m\u001b[1;33m)\u001b[0m\u001b[1;33m\u001b[0m\u001b[1;33m\u001b[0m\u001b[0m\n\u001b[0m",
      "\u001b[1;32m~\\AppData\\Local\\Temp/ipykernel_66984/1130386891.py\u001b[0m in \u001b[0;36mpipeline_regression_scaler\u001b[1;34m(scaler)\u001b[0m\n\u001b[0;32m     16\u001b[0m         \u001b[0mprint\u001b[0m\u001b[1;33m(\u001b[0m\u001b[1;34m'Tente M: minmax, S: standard e R: robust'\u001b[0m\u001b[1;33m)\u001b[0m\u001b[1;33m\u001b[0m\u001b[1;33m\u001b[0m\u001b[0m\n\u001b[0;32m     17\u001b[0m \u001b[1;33m\u001b[0m\u001b[0m\n\u001b[1;32m---> 18\u001b[1;33m     \u001b[0mpipe\u001b[0m\u001b[1;33m.\u001b[0m\u001b[0mfit\u001b[0m\u001b[1;33m(\u001b[0m\u001b[0mX_train\u001b[0m\u001b[1;33m,\u001b[0m \u001b[0my_train\u001b[0m\u001b[1;33m)\u001b[0m\u001b[1;33m\u001b[0m\u001b[1;33m\u001b[0m\u001b[0m\n\u001b[0m\u001b[0;32m     19\u001b[0m     \u001b[0my_pred\u001b[0m \u001b[1;33m=\u001b[0m \u001b[0mpipe\u001b[0m\u001b[1;33m.\u001b[0m\u001b[0mpredict\u001b[0m\u001b[1;33m(\u001b[0m\u001b[0mX_test\u001b[0m\u001b[1;33m)\u001b[0m\u001b[1;33m\u001b[0m\u001b[1;33m\u001b[0m\u001b[0m\n\u001b[0;32m     20\u001b[0m     \u001b[0my_hat\u001b[0m\u001b[1;33m=\u001b[0m \u001b[0mpipe\u001b[0m\u001b[1;33m.\u001b[0m\u001b[0mpredict\u001b[0m\u001b[1;33m(\u001b[0m\u001b[0mX_train\u001b[0m\u001b[1;33m)\u001b[0m\u001b[1;33m\u001b[0m\u001b[1;33m\u001b[0m\u001b[0m\n",
      "\u001b[1;31mUnboundLocalError\u001b[0m: local variable 'pipe' referenced before assignment"
     ]
    }
   ],
   "source": [
    "pipeline_regression_scaler(\"d\")"
   ]
  },
  {
   "cell_type": "code",
   "execution_count": 43,
   "id": "4f87d51c",
   "metadata": {},
   "outputs": [],
   "source": [
    "results = pd.DataFrame({'y_test': y_test, 'y_pred': y_pred})\n",
    "results.sort_index(inplace=True)"
   ]
  },
  {
   "cell_type": "code",
   "execution_count": 44,
   "id": "936e1811",
   "metadata": {},
   "outputs": [],
   "source": [
    "results=pd.DataFrame({'y_train':y_train,'y_hat':y_hat})\n",
    "results.sort_index(inplace=True)"
   ]
  },
  {
   "cell_type": "code",
   "execution_count": null,
   "id": "582b513c",
   "metadata": {},
   "outputs": [],
   "source": []
  }
 ],
 "metadata": {
  "kernelspec": {
   "display_name": "Python 3 (ipykernel)",
   "language": "python",
   "name": "python3"
  },
  "language_info": {
   "codemirror_mode": {
    "name": "ipython",
    "version": 3
   },
   "file_extension": ".py",
   "mimetype": "text/x-python",
   "name": "python",
   "nbconvert_exporter": "python",
   "pygments_lexer": "ipython3",
   "version": "3.9.7"
  }
 },
 "nbformat": 4,
 "nbformat_minor": 5
}
